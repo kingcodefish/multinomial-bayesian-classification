{
 "cells": [
  {
   "cell_type": "code",
   "execution_count": 1,
   "id": "b2a5b5f5-4070-44fe-8f10-3b2a7e9f8fd5",
   "metadata": {},
   "outputs": [
    {
     "name": "stdout",
     "output_type": "stream",
     "text": [
      "40170\n"
     ]
    }
   ],
   "source": [
    "import json\n",
    "\n",
    "f = open('News_Category_Dataset_v2.json')\n",
    "nr_of_lines = int(0.2 * sum(1 for line in f))\n",
    "print(nr_of_lines)\n",
    "\n",
    "f = open('News_Category_Dataset_v2.json')\n",
    "data = []\n",
    "currLine = 0\n",
    "for line in f:\n",
    "    if currLine > nr_of_lines:\n",
    "        break\n",
    "    \n",
    "    data.append(json.loads(line))\n",
    "    currLine += 1\n",
    "\n",
    "f.close()"
   ]
  },
  {
   "cell_type": "code",
   "execution_count": null,
   "id": "a4be13a7-0550-4daf-8629-b8c56db14792",
   "metadata": {},
   "outputs": [],
   "source": []
  },
  {
   "cell_type": "code",
   "execution_count": null,
   "id": "adf128af-fd36-45af-9e50-b4c038d398d4",
   "metadata": {},
   "outputs": [],
   "source": []
  }
 ],
 "metadata": {
  "kernelspec": {
   "display_name": "Python 3",
   "language": "python",
   "name": "python3"
  },
  "language_info": {
   "codemirror_mode": {
    "name": "ipython",
    "version": 3
   },
   "file_extension": ".py",
   "mimetype": "text/x-python",
   "name": "python",
   "nbconvert_exporter": "python",
   "pygments_lexer": "ipython3",
   "version": "3.8.8"
  }
 },
 "nbformat": 4,
 "nbformat_minor": 5
}
